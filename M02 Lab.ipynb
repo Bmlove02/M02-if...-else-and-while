{
 "cells": [
  {
   "cell_type": "code",
   "execution_count": null,
   "id": "60c8cd29",
   "metadata": {},
   "outputs": [],
   "source": [
    "#Brandon Love\n",
    "#M02 Lab\n",
    "#Take user input to navigate the app and test float variables to see where the student's GPA is.\n",
    "Lname = input(\"Enter student's Last name or type 'ZZZ' to quit \\n\")\n",
    "while (Lname != 'ZZZ'):\n",
    "    Fname = input(\"Enter student's First name \\n\")\n",
    "    GPA = input(\"Enter the student's GPA \\n\")\n",
    "    if float(GPA) >= 3.5:\n",
    "        print(Fname + \" has made the Dean's list!\")\n",
    "        Lname = input(\"Enter another student's Last name or type 'ZZZ' to quit \\n\")\n",
    "    elif float(GPA) >= 3.25:\n",
    "        print(Fname + \" has made the Honor roll!\")\n",
    "        Lname = input(\"Enter another student's Last name or type 'ZZZ' to quit \\n\")\n",
    "    else:\n",
    "        print(Fname + \"'s GPA is too low for Honor roll...'\")\n",
    "        Lname = input(\"Enter another student's Last name or type 'ZZZ' to quit \\n\")"
   ]
  },
  {
   "cell_type": "code",
   "execution_count": null,
   "id": "9468bb16",
   "metadata": {},
   "outputs": [],
   "source": []
  },
  {
   "cell_type": "code",
   "execution_count": null,
   "id": "1cc0144d",
   "metadata": {},
   "outputs": [],
   "source": []
  }
 ],
 "metadata": {
  "kernelspec": {
   "display_name": "Python 3 (ipykernel)",
   "language": "python",
   "name": "python3"
  },
  "language_info": {
   "codemirror_mode": {
    "name": "ipython",
    "version": 3
   },
   "file_extension": ".py",
   "mimetype": "text/x-python",
   "name": "python",
   "nbconvert_exporter": "python",
   "pygments_lexer": "ipython3",
   "version": "3.9.13"
  }
 },
 "nbformat": 4,
 "nbformat_minor": 5
}
